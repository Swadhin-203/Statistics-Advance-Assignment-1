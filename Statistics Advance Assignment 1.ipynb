{
 "cells": [
  {
   "cell_type": "markdown",
   "id": "6e342d07",
   "metadata": {},
   "source": [
    "Q1. What is the Probability density function?\n",
    "\n",
    "Ans:A probability density function (PDF) is a mathematical function that describes the probability distribution of a continuous random variable. The PDF of a continuous random variable is a curve, and the area under the curve represents the total probability of all possible values of the variable.\n",
    "\n",
    "The PDF provides a way to calculate the probability of a random variable falling within a certain range of values. The probability of the variable falling within a specific range is calculated by integrating the PDF over that range.\n",
    "\n",
    "In essence, the PDF is a way of quantifying the likelihood of a continuous random variable taking on a particular value or set of values. It is an essential concept in probability theory and statistics and is used extensively in fields such as finance, engineering, physics, and social sciences."
   ]
  },
  {
   "cell_type": "markdown",
   "id": "de2eecfe",
   "metadata": {},
   "source": [
    "Q2. What are the types of Probability distribution?\n",
    "\n",
    "Ans:There are many different types of probability distributions, but they can generally be grouped into two main categories: discrete and continuous.\n",
    "\n",
    "Discrete Probability Distributions: A discrete probability distribution is one in which the random variable can take on a countable set of values, such as integers. Examples of discrete probability distributions include the binomial distribution, Poisson distribution, and geometric distribution.\n",
    "\n",
    "Continuous Probability Distributions: A continuous probability distribution is one in which the random variable can take on any value within a certain range. Examples of continuous probability distributions include the normal distribution, uniform distribution, and exponential distribution.\n",
    "\n",
    "In addition to these two main categories, there are also joint and conditional probability distributions that describe the probabilities of multiple random variables occurring together or given certain conditions. These distributions are essential in fields such as machine learning, data science, and statistics."
   ]
  },
  {
   "cell_type": "code",
   "execution_count": 2,
   "id": "737b66f9",
   "metadata": {},
   "outputs": [],
   "source": [
    "# Q3. Write a Python function to calculate the probability density function of a normal distribution with\n",
    "# given mean and standard deviation at a given point.\n",
    "# Ans:\n",
    "import math\n",
    "\n",
    "def normal_pdf(x, mean, std_dev):\n",
    "    \"\"\"\n",
    "    Calculates the probability density function of a normal distribution with the given mean and standard deviation at\n",
    "    the given point x.\n",
    "\n",
    "    :param x: The point at which to evaluate the PDF\n",
    "    :param mean: The mean of the normal distribution\n",
    "    :param std_dev: The standard deviation of the normal distribution\n",
    "    :return: The value of the PDF at x\n",
    "    \"\"\"\n",
    "    coeff = 1 / (std_dev * math.sqrt(2 * math.pi))\n",
    "    exponent = -0.5 * ((x - mean) / std_dev) ** 2\n",
    "    return coeff * math.exp(exponent)\n"
   ]
  },
  {
   "cell_type": "markdown",
   "id": "03369463",
   "metadata": {},
   "source": [
    "Q4. What are the properties of Binomial distribution? Give two examples of events where binomial\n",
    "distribution can be applied.\n",
    "Ans:It models the probability of success/failure in a fixed number of independent trials.\n",
    "The trials are assumed to be identical.\n",
    "The probability of success remains constant for all trials.\n",
    "The trials are assumed to be independent.\n",
    "Two examples of events where binomial distribution can be applied are:\n",
    "\n",
    "Tossing a coin a fixed number of times and counting the number of heads\n",
    "Conducting a survey and counting the number of respondents who answer 'yes'"
   ]
  },
  {
   "cell_type": "code",
   "execution_count": 3,
   "id": "453da249",
   "metadata": {},
   "outputs": [
    {
     "data": {
      "image/png": "[encoded data removed]",
      "text/plain": [
       "<Figure size 640x480 with 1 Axes>"
      ]
     },
     "metadata": {},
     "output_type": "display_data"
    }
   ],
   "source": [
    "# Q5. Generate a random sample of size 1000 from a binomial distribution with probability of success 0.4\n",
    "# and plot a histogram of the results using matplotlib.\n",
    "import numpy as np\n",
    "import matplotlib.pyplot as plt\n",
    "\n",
    "n = 1000\n",
    "p = 0.4\n",
    "\n",
    "sample = np.random.binomial(n, p, size=1000)\n",
    "plt.hist(sample, bins=20)\n",
    "plt.title(\"Histogram of a Binomial Distribution\")\n",
    "plt.xlabel(\"Number of successes\")\n",
    "plt.ylabel(\"Frequency\")\n",
    "plt.show()\n"
   ]
  },
  {
   "cell_type": "code",
   "execution_count": null,
   "id": "215be519",
   "metadata": {},
   "outputs": [],
   "source": [
    "# Q6. Write a Python function to calculate the cumulative distribution function of a Poisson distribution\n",
    "# with given mean at a given point.\n",
    "import math\n",
    "\n",
    "def poisson_cdf(x, mean):\n",
    "    cdf = 0.0\n",
    "    for i in range(x + 1):\n",
    "        cdf += math.exp(-mean) * (mean ** i) / math.factorial(i)\n",
    "    return cdf\n"
   ]
  },
  {
   "cell_type": "markdown",
   "id": "269f95bf",
   "metadata": {},
   "source": [
    "Q7. How Binomial distribution different from Poisson distribution?\n",
    "Ans:Binomial distribution models the probability of success/failure in a fixed number of independent trials, whereas Poisson distribution models the probability of the number of events occurring in a fixed time interval or in a specific area/volume.\n",
    "In binomial distribution, the number of trials is fixed, whereas in Poisson distribution, the number of events is not fixed but is assumed to be a rare occurrence.\n",
    "Binomial distribution has two parameters, n (the number of trials) and p (the probability of success), whereas Poisson distribution has only one parameter, lambda (the average number of events in a given time interval or area/volume).\n"
   ]
  },
  {
   "cell_type": "code",
   "execution_count": 6,
   "id": "aa022a91",
   "metadata": {},
   "outputs": [],
   "source": [
    "# Q8. Generate a random sample of size 1000 from a Poisson distribution with mean 5 and calculate the\n",
    "# sample mean and variance.\n",
    "import numpy as np\n",
    "\n",
    "mean = 5\n",
    "sample = np.random.poisson(mean, size=1000)\n",
    "\n",
    "sample_mean = np.mean(sample)\n",
    "sample_var = np.var(sample)"
   ]
  },
  {
   "cell_type": "code",
   "execution_count": null,
   "id": "f6b983d3",
   "metadata": {},
   "outputs": [],
   "source": [
    "Q9. How mean and variance are related in Binomial distribution and Poisson distribution?\n",
    "Ans:In a binomial distribution, the mean (μ) and variance (σ²) are related by the following formula:\n",
    "\n",
    "μ = np\n",
    "\n",
    "σ² = np(1-p)\n",
    "\n",
    "where n is the number of trials and p is the probability of success.\n",
    "\n",
    "In a Poisson distribution, the mean (μ) and variance (σ²) are also related, but by a simpler formula:\n",
    "\n",
    "μ = σ²\n",
    "\n",
    "This means that in a Poisson distribution, the variance is equal to the mean.\n",
    "\n",
    "These relationships can be used to calculate one parameter given the other in each of these distributions."
   ]
  },
  {
   "cell_type": "markdown",
   "id": "79bcf2f6",
   "metadata": {},
   "source": [
    "Q10. In normal distribution with respect to mean position, where does the least frequent data appear?\n",
    "\n",
    "Ans:In a normal distribution, the least frequent data appears at the tails of the distribution, which are the values that are farthest away from the mean. The frequency of data decreases as we move away from the mean in either direction, and it is the lowest at the points where the distribution begins to taper off towards zero. This is because the probability density function of a normal distribution is bell-shaped and symmetric around the mean, with the highest point of the curve at the mean, and the probability density gradually decreasing as we move away from the mean in either direction."
   ]
  },
  {
   "cell_type": "code",
   "execution_count": null,
   "id": "6efe2542",
   "metadata": {},
   "outputs": [],
   "source": []
  },
  {
   "cell_type": "code",
   "execution_count": null,
   "id": "99855355",
   "metadata": {},
   "outputs": [],
   "source": []
  },
  {
   "cell_type": "code",
   "execution_count": null,
   "id": "ef361a67",
   "metadata": {},
   "outputs": [],
   "source": []
  },
  {
   "cell_type": "code",
   "execution_count": null,
   "id": "282ed8b4",
   "metadata": {},
   "outputs": [],
   "source": []
  },
  {
   "cell_type": "code",
   "execution_count": null,
   "id": "8815e9ce",
   "metadata": {},
   "outputs": [],
   "source": []
  }
 ],
 "metadata": {
  "kernelspec": {
   "display_name": "Python 3 (ipykernel)",
   "language": "python",
   "name": "python3"
  },
  "language_info": {
   "codemirror_mode": {
    "name": "ipython",
    "version": 3
   },
   "file_extension": ".py",
   "mimetype": "text/x-python",
   "name": "python",
   "nbconvert_exporter": "python",
   "pygments_lexer": "ipython3",
   "version": "3.10.5"
  }
 },
 "nbformat": 4,
 "nbformat_minor": 5
}
